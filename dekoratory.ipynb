{
 "cells": [
  {
   "cell_type": "markdown",
   "metadata": {},
   "source": [
    "# Od zera do Hackera - Dekoratory 🎨"
   ]
  },
  {
   "cell_type": "code",
   "execution_count": 1,
   "metadata": {},
   "outputs": [],
   "source": [
    "import time"
   ]
  },
  {
   "cell_type": "markdown",
   "metadata": {},
   "source": [
    " Dekoratory są bardzo przydatnym narzędziem w Pythonie, bo pozwalają modyfikować zachowanie funkcji lub klasy. Dekoratory pozwalają 'opakować' (wrapp) funkcję pierwotną w inną funkcję, tym samym nie zmieniając trwale funkcji pierwotnej. \n"
   ]
  },
  {
   "cell_type": "markdown",
   "metadata": {},
   "source": [
    "## 0. Pewne właściwości funkcji: <br>\n",
    " 1. można ją zapisać w zmiennej, <br>\n",
    " 2. może być parametrem innej funkcji, <br>\n",
    " 3. można zwrócić funkcję z funkcji. <br>"
   ]
  },
  {
   "cell_type": "markdown",
   "metadata": {},
   "source": [
    "AD 1."
   ]
  },
  {
   "cell_type": "code",
   "execution_count": 2,
   "metadata": {},
   "outputs": [],
   "source": [
    "def upper_text(text):\n",
    "    return text.upper()"
   ]
  },
  {
   "cell_type": "code",
   "execution_count": null,
   "metadata": {},
   "outputs": [],
   "source": [
    "zmienna = upper_text"
   ]
  },
  {
   "cell_type": "code",
   "execution_count": null,
   "metadata": {},
   "outputs": [],
   "source": [
    "zmienna('od zera do hackera')"
   ]
  },
  {
   "cell_type": "code",
   "execution_count": 3,
   "metadata": {},
   "outputs": [
    {
     "data": {
      "text/plain": [
       "'OD ZERA DO HACKERA'"
      ]
     },
     "execution_count": 3,
     "metadata": {},
     "output_type": "execute_result"
    }
   ],
   "source": [
    "upper_text('od zera do hackera')"
   ]
  },
  {
   "cell_type": "markdown",
   "metadata": {},
   "source": [
    "AD 2."
   ]
  },
  {
   "cell_type": "code",
   "execution_count": 4,
   "metadata": {},
   "outputs": [],
   "source": [
    "def exclamation_mark(text):\n",
    "    return text + ' !'"
   ]
  },
  {
   "cell_type": "code",
   "execution_count": 8,
   "metadata": {},
   "outputs": [],
   "source": [
    "def sentence(func): \n",
    "    s = func('Pajton nie gryzie') \n",
    "    return s"
   ]
  },
  {
   "cell_type": "code",
   "execution_count": 9,
   "metadata": {},
   "outputs": [
    {
     "data": {
      "text/plain": [
       "'Pajton nie gryzie !'"
      ]
     },
     "execution_count": 9,
     "metadata": {},
     "output_type": "execute_result"
    }
   ],
   "source": [
    "sentence(exclamation_mark)"
   ]
  },
  {
   "cell_type": "code",
   "execution_count": 10,
   "metadata": {},
   "outputs": [
    {
     "data": {
      "text/plain": [
       "'PAJTON NIE GRYZIE'"
      ]
     },
     "execution_count": 10,
     "metadata": {},
     "output_type": "execute_result"
    }
   ],
   "source": [
    "sentence(upper_text)"
   ]
  },
  {
   "cell_type": "markdown",
   "metadata": {},
   "source": [
    "AD 3."
   ]
  },
  {
   "cell_type": "code",
   "execution_count": 14,
   "metadata": {},
   "outputs": [],
   "source": [
    "def create_adder(x):\n",
    "    def adder(y): \n",
    "        return x+y \n",
    "    return adder "
   ]
  },
  {
   "cell_type": "code",
   "execution_count": 15,
   "metadata": {},
   "outputs": [],
   "source": [
    "adder_123 = create_adder(123)\n",
    "# adder_123 ma postać:\n",
    "# def adder(y): \n",
    "#     return 123+y "
   ]
  },
  {
   "cell_type": "code",
   "execution_count": 16,
   "metadata": {},
   "outputs": [
    {
     "data": {
      "text/plain": [
       "124"
      ]
     },
     "execution_count": 16,
     "metadata": {},
     "output_type": "execute_result"
    }
   ],
   "source": [
    "adder_123(1)"
   ]
  },
  {
   "cell_type": "markdown",
   "metadata": {},
   "source": [
    "## 1. Składnia dekoratora"
   ]
  },
  {
   "cell_type": "markdown",
   "metadata": {},
   "source": [
    "W dekoratorach funkcje są przyjmowane jako argument innej funkcji, a następnie wywoływane wewnątrz funkcji opakowującej.\n"
   ]
  },
  {
   "cell_type": "code",
   "execution_count": 18,
   "metadata": {},
   "outputs": [],
   "source": [
    "# przykładowy dekorator\n",
    "def nasz_decorator(func):\n",
    "\n",
    "    # nasz_wrapper jest wrapperem NASZEJ FUNKCJI (tej w argumencie) 'func'\n",
    "    \n",
    "    # funkcja wewnętrzna ma dostęp do NASZEJ FUNKCJI 'func'\n",
    "    def nasz_wrapper():\n",
    "        print(\"To się dzieje przed wywołaniem funkcji.\")\n",
    "\n",
    "        # wywołanie NASZA FUNKCJA wewnątrz funkcji wrapper.\n",
    "        func()\n",
    "\n",
    "        print(\"To się dzieje po wywołaniu funkcji.\")\n",
    "        \n",
    "    return nasz_wrapper"
   ]
  },
  {
   "cell_type": "code",
   "execution_count": 19,
   "metadata": {},
   "outputs": [],
   "source": [
    "# funkcja, którą wywołamy wewnątrz wrappera\n",
    "def nasza_funkcja():\n",
    "    print(\"Teraz wykonuje się NASZA FUNKCJA!\")\n"
   ]
  },
  {
   "cell_type": "code",
   "execution_count": 20,
   "metadata": {},
   "outputs": [],
   "source": [
    "# wywołanie funkcji z dekoratorem\n",
    "nasza_funkca_z_dekoratorem = nasz_decorator(nasza_funkcja)\n",
    "# nasza_funkca_z_dekoratorem = nasza_funkcja"
   ]
  },
  {
   "cell_type": "code",
   "execution_count": 21,
   "metadata": {},
   "outputs": [
    {
     "name": "stdout",
     "output_type": "stream",
     "text": [
      "To się dzieje przed wywołaniem funkcji.\n",
      "Teraz wykonuje się NASZA FUNKCJA!\n",
      "To się dzieje po wywołaniu funkcji.\n"
     ]
    }
   ],
   "source": [
    "# wywołanie \n",
    "nasza_funkca_z_dekoratorem()"
   ]
  },
  {
   "cell_type": "markdown",
   "metadata": {},
   "source": [
    "Praktyczna składnia - przed zdefiniowaniem funkcji dodajemy nazwę dekoratora z symbolem @ - to daje udekorowanie forever\n"
   ]
  },
  {
   "cell_type": "code",
   "execution_count": 23,
   "metadata": {},
   "outputs": [],
   "source": [
    "@nasz_decorator\n",
    "def nasza_funkcja2():\n",
    "    print(\"Teraz wykonuje się NASZA druga FUNKCJA!\")"
   ]
  },
  {
   "cell_type": "code",
   "execution_count": 24,
   "metadata": {},
   "outputs": [
    {
     "name": "stdout",
     "output_type": "stream",
     "text": [
      "To się dzieje przed wywołaniem funkcji.\n",
      "Teraz wykonuje się NASZA druga FUNKCJA!\n",
      "To się dzieje po wywołaniu funkcji.\n"
     ]
    }
   ],
   "source": [
    "nasza_funkcja2()"
   ]
  },
  {
   "cell_type": "markdown",
   "metadata": {},
   "source": [
    "## 2. Przykład - mierzenie czasu wykonywania funkcji\n"
   ]
  },
  {
   "cell_type": "code",
   "execution_count": 25,
   "metadata": {},
   "outputs": [],
   "source": [
    "def measuretime(func):\n",
    "    def wrapper():\n",
    "        starttime = time.perf_counter()\n",
    "        func()\n",
    "        endtime = time.perf_counter()\n",
    "        print(f\"Czas potrzebny do wykonania funkcji: {endtime - starttime} sekund\")\n",
    "    return wrapper"
   ]
  },
  {
   "cell_type": "code",
   "execution_count": 26,
   "metadata": {},
   "outputs": [],
   "source": [
    "@measuretime\n",
    "def wastetime():\n",
    "    sum([i**2 for i in range(1000000)])"
   ]
  },
  {
   "cell_type": "code",
   "execution_count": 27,
   "metadata": {},
   "outputs": [
    {
     "name": "stdout",
     "output_type": "stream",
     "text": [
      "Czas potrzebny do wykonania funkcji: 0.16986809996888041 sekund\n"
     ]
    }
   ],
   "source": [
    "wastetime()"
   ]
  },
  {
   "cell_type": "markdown",
   "metadata": {},
   "source": [
    "## 3. Przykład - testy i debugowanie "
   ]
  },
  {
   "cell_type": "code",
   "execution_count": 28,
   "metadata": {},
   "outputs": [],
   "source": [
    "def debug(func):\n",
    "    def wrapper():\n",
    "        print(f\"Teraz wykonuje się funkcja: {func.__name__}.\")\n",
    "        func()\n",
    "    return wrapper"
   ]
  },
  {
   "cell_type": "code",
   "execution_count": 29,
   "metadata": {},
   "outputs": [],
   "source": [
    "@debug\n",
    "def more_wastetime():\n",
    "    sum([i**2 for i in range(5000000)])"
   ]
  },
  {
   "cell_type": "code",
   "execution_count": 30,
   "metadata": {},
   "outputs": [
    {
     "name": "stdout",
     "output_type": "stream",
     "text": [
      "Teraz wykonuje się funkcja: more_wastetime.\n"
     ]
    }
   ],
   "source": [
    "more_wastetime()"
   ]
  },
  {
   "cell_type": "markdown",
   "metadata": {},
   "source": [
    "## 4. Co jeśli funkcje mają argumenty?"
   ]
  },
  {
   "cell_type": "markdown",
   "metadata": {},
   "source": [
    "Wtedy musimy we wraperze dodać argumenty w postaci *args, **kwargs."
   ]
  },
  {
   "cell_type": "code",
   "execution_count": 31,
   "metadata": {},
   "outputs": [],
   "source": [
    "def nasz_decorator2(func):\n",
    "    def wrapper(*args, **kwargs):\n",
    "        \n",
    "        print(\"To się dzieje przed wywołaniem funkcji.\")\n",
    "        \n",
    "        # wywołanie funkcji z argumentami\n",
    "        returned_value = func(*args, **kwargs)\n",
    "\n",
    "        print(\"To się dzieje po wywołaniu funkcji.\")\n",
    "        \n",
    "        # zwrócenie wywołanej funkcji\n",
    "        return returned_value\n",
    "        \n",
    "    return wrapper"
   ]
  },
  {
   "cell_type": "code",
   "execution_count": 32,
   "metadata": {},
   "outputs": [],
   "source": [
    "@nasz_decorator2\n",
    "def sum_two_numbers(a, b):\n",
    "    return a + b"
   ]
  },
  {
   "cell_type": "code",
   "execution_count": 33,
   "metadata": {},
   "outputs": [
    {
     "name": "stdout",
     "output_type": "stream",
     "text": [
      "To się dzieje przed wywołaniem funkcji.\n",
      "To się dzieje po wywołaniu funkcji.\n"
     ]
    },
    {
     "data": {
      "text/plain": [
       "579"
      ]
     },
     "execution_count": 33,
     "metadata": {},
     "output_type": "execute_result"
    }
   ],
   "source": [
    "a, b = 123, 456\n",
    "sum_two_numbers(a, b)"
   ]
  },
  {
   "cell_type": "markdown",
   "metadata": {},
   "source": [
    "## 5. Przykład - mierzenie czasu wywołania funkcji z argumentami"
   ]
  },
  {
   "cell_type": "code",
   "execution_count": 34,
   "metadata": {},
   "outputs": [],
   "source": [
    "def measuretime2(func):\n",
    "    def wrapper(*args, **kwargs):\n",
    "        starttime = time.perf_counter()\n",
    "        returned_value = func(*args, **kwargs)\n",
    "        endtime = time.perf_counter()\n",
    "        print(f\"Czas potrzebny do wykonania funkcji: {endtime - starttime} sekund\")\n",
    "        return returned_value \n",
    "    return wrapper"
   ]
  },
  {
   "cell_type": "code",
   "execution_count": 35,
   "metadata": {},
   "outputs": [],
   "source": [
    "@measuretime2\n",
    "def multiply_two_numbers(a, b):\n",
    "    return a * b"
   ]
  },
  {
   "cell_type": "code",
   "execution_count": 36,
   "metadata": {},
   "outputs": [
    {
     "name": "stdout",
     "output_type": "stream",
     "text": [
      "Czas potrzebny do wykonania funkcji: 1.00000761449337e-06 sekund\n"
     ]
    },
    {
     "data": {
      "text/plain": [
       "56088"
      ]
     },
     "execution_count": 36,
     "metadata": {},
     "output_type": "execute_result"
    }
   ],
   "source": [
    "a, b = 123, 456\n",
    "multiply_two_numbers(a, b)"
   ]
  },
  {
   "cell_type": "markdown",
   "metadata": {},
   "source": [
    "## 6. Przykład - testy i debugowanie "
   ]
  },
  {
   "cell_type": "code",
   "execution_count": 37,
   "metadata": {},
   "outputs": [],
   "source": [
    "def debug2(func):\n",
    "    def wrapper(*args, **kwargs):\n",
    "        print(f\"Teraz wykonuje się funkcja: {func.__name__} z args: {args} i kwargs: {kwargs}.\")\n",
    "        returned_value = func(*args, **kwargs)\n",
    "        print(f\"Fuknckja {func.__name__} została wykonana z wynikiem: {returned_value}.\")\n",
    "        return returned_value\n",
    "    return wrapper"
   ]
  },
  {
   "cell_type": "code",
   "execution_count": 38,
   "metadata": {},
   "outputs": [],
   "source": [
    "@debug2\n",
    "def jakas_suma(nbr):\n",
    "    return sum([i**2 for i in range(nbr)])"
   ]
  },
  {
   "cell_type": "code",
   "execution_count": 39,
   "metadata": {},
   "outputs": [
    {
     "name": "stdout",
     "output_type": "stream",
     "text": [
      "Teraz wykonuje się funkcja: jakas_suma z args: (123456,) i kwargs: {}.\n",
      "Fuknckja jakas_suma została wykonana z wynikiem: 627205811062880.\n"
     ]
    },
    {
     "data": {
      "text/plain": [
       "627205811062880"
      ]
     },
     "execution_count": 39,
     "metadata": {},
     "output_type": "execute_result"
    }
   ],
   "source": [
    "jakas_suma(123456)"
   ]
  }
 ],
 "metadata": {
  "kernelspec": {
   "display_name": "Python 3",
   "language": "python",
   "name": "python3"
  },
  "language_info": {
   "codemirror_mode": {
    "name": "ipython",
    "version": 3
   },
   "file_extension": ".py",
   "mimetype": "text/x-python",
   "name": "python",
   "nbconvert_exporter": "python",
   "pygments_lexer": "ipython3",
   "version": "3.13.1"
  }
 },
 "nbformat": 4,
 "nbformat_minor": 2
}
